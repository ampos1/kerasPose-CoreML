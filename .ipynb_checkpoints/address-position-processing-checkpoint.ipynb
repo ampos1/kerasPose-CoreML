{
 "cells": [
  {
   "cell_type": "code",
   "execution_count": 1,
   "metadata": {},
   "outputs": [],
   "source": [
    "import pandas as pd\n",
    "import numpy as np\n",
    "import re"
   ]
  },
  {
   "cell_type": "code",
   "execution_count": 2,
   "metadata": {},
   "outputs": [],
   "source": [
    "data = pd.read_csv(\"Address.txt\")"
   ]
  },
  {
   "cell_type": "code",
   "execution_count": 3,
   "metadata": {},
   "outputs": [],
   "source": [
    "df = pd.DataFrame(data)"
   ]
  },
  {
   "cell_type": "code",
   "execution_count": 4,
   "metadata": {},
   "outputs": [],
   "source": [
    "df.rename(columns = {'<?xml version=\"1.0\" encoding=\"UTF-8\"?>': 'values'},inplace = True)"
   ]
  },
  {
   "cell_type": "code",
   "execution_count": 5,
   "metadata": {},
   "outputs": [],
   "source": [
    "for i in range(0,df['values'].count()):\n",
    "    if type(df['values'][i]) != str:\n",
    "        val = df['values'][i]\n",
    "        df['values'][i] = df['values'][i].to_string()"
   ]
  },
  {
   "cell_type": "code",
   "execution_count": 6,
   "metadata": {},
   "outputs": [],
   "source": [
    "for i in range(0,df['values'].count()):\n",
    "    if 'real' in df['values'][i]:\n",
    "        temp = re.search('>(.*)</',df['values'][i])\n",
    "        df['values'][i] = temp.group(1)  "
   ]
  },
  {
   "cell_type": "code",
   "execution_count": 7,
   "metadata": {},
   "outputs": [],
   "source": [
    "temp_df = df"
   ]
  },
  {
   "cell_type": "code",
   "execution_count": 8,
   "metadata": {},
   "outputs": [],
   "source": [
    "check = ['a','e','i','o','u'] \n",
    "\n",
    "for i in range(0,temp_df['values'].count()):\n",
    "    for vowel in check:\n",
    "        if vowel in list(temp_df['values'][i]):\n",
    "            temp_df.drop(index = i,inplace = True)\n",
    "            break"
   ]
  },
  {
   "cell_type": "code",
   "execution_count": 9,
   "metadata": {},
   "outputs": [],
   "source": [
    "res = temp_df\n",
    "res = res.reset_index()\n",
    "res.drop('index',axis=1,inplace=True)"
   ]
  },
  {
   "cell_type": "code",
   "execution_count": 10,
   "metadata": {},
   "outputs": [],
   "source": [
    "x_temp = pd.DataFrame(np.zeros((4368,1)))\n",
    "y_temp = pd.DataFrame(np.zeros((4368,1)))\n",
    "z_temp = pd.DataFrame(np.zeros((4368,1)))"
   ]
  },
  {
   "cell_type": "code",
   "execution_count": 11,
   "metadata": {},
   "outputs": [],
   "source": [
    "for i in range(0,int(res.count()),3):\n",
    "    if(i == 0):\n",
    "        x_temp[0][i ] = res['values'][i]\n",
    "    else:\n",
    "        x_temp[0][0+(i/3)] = res['values'][i]"
   ]
  },
  {
   "cell_type": "code",
   "execution_count": 12,
   "metadata": {},
   "outputs": [],
   "source": [
    "def extract_x_values(data, x_vals):\n",
    "    for i in range(0,int(data.count()),3):\n",
    "        if(i == 0):\n",
    "            x_vals[0][i ] = data['values'][i]\n",
    "        else:\n",
    "            x_vals[0][(i/3)] = data['values'][i]\n",
    "    return x_vals"
   ]
  },
  {
   "cell_type": "code",
   "execution_count": 13,
   "metadata": {},
   "outputs": [],
   "source": [
    "def extract_y_values(data, y_vals):\n",
    "    for i in range(1,int(data.count()),3):\n",
    "        if(i == 1):\n",
    "            y_vals[0][i-1] = data['values'][i]\n",
    "        else:\n",
    "            y_vals[0][int((i/3))] = data['values'][i]\n",
    "    return y_vals"
   ]
  },
  {
   "cell_type": "code",
   "execution_count": 14,
   "metadata": {},
   "outputs": [],
   "source": [
    "def extract_z_values(data,z_vals):\n",
    "    for i in range(2,int(data.count()),3):\n",
    "        if(i == 2):\n",
    "            z_vals[0][i-2] = data['values'][i]\n",
    "        else:\n",
    "            z_vals[0][(i-2)/3] = data['values'][i]\n",
    "    return z_vals"
   ]
  },
  {
   "cell_type": "code",
   "execution_count": 15,
   "metadata": {},
   "outputs": [],
   "source": [
    "x_temp = extract_x_values(res,x_temp)\n",
    "y_temp = extract_y_values(res,y_temp)\n",
    "z_temp = extract_z_values(res,z_temp)"
   ]
  },
  {
   "cell_type": "code",
   "execution_count": 16,
   "metadata": {},
   "outputs": [],
   "source": [
    "x_temp.rename(columns={0:'x'},inplace=True)\n",
    "y_temp.rename(columns={0:'y'},inplace=True)\n",
    "z_temp.rename(columns={0:'z'},inplace=True)"
   ]
  },
  {
   "cell_type": "code",
   "execution_count": 21,
   "metadata": {},
   "outputs": [],
   "source": [
    "xyz_df = pd.concat([x_temp,y_temp,z_temp],axis=1)"
   ]
  },
  {
   "cell_type": "code",
   "execution_count": 22,
   "metadata": {},
   "outputs": [],
   "source": [
    "def restructure(data):\n",
    "    organized_df = pd.DataFrame()\n",
    "    for i in range(0,273):\n",
    "        lower_bound = 0\n",
    "        upper_bound = 15\n",
    "        curr_lower = lower_bound + (i*16)\n",
    "        curr_upper = upper_bound + (i*16)\n",
    "        \n",
    "        df_splice = data.loc[curr_lower:curr_upper,:]\n",
    "        df_splice.reset_index(inplace=True,drop=True)\n",
    "        df_splice = df_splice.transpose()\n",
    "        organized_df = pd.concat([organized_df,df_splice])\n",
    "    \n",
    "    return organized_df"
   ]
  },
  {
   "cell_type": "code",
   "execution_count": 23,
   "metadata": {},
   "outputs": [],
   "source": [
    "xyz_df = restructure(xyz_df)"
   ]
  },
  {
   "cell_type": "code",
   "execution_count": 26,
   "metadata": {},
   "outputs": [],
   "source": [
    "xyz_df.to_csv('address_data_csv')"
   ]
  },
  {
   "cell_type": "code",
   "execution_count": null,
   "metadata": {},
   "outputs": [],
   "source": []
  }
 ],
 "metadata": {
  "kernelspec": {
   "display_name": "Python (COGS108)",
   "language": "python",
   "name": "cogs108"
  },
  "language_info": {
   "codemirror_mode": {
    "name": "ipython",
    "version": 3
   },
   "file_extension": ".py",
   "mimetype": "text/x-python",
   "name": "python",
   "nbconvert_exporter": "python",
   "pygments_lexer": "ipython3",
   "version": "3.7.2"
  }
 },
 "nbformat": 4,
 "nbformat_minor": 2
}
