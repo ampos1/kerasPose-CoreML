{
 "cells": [
  {
   "cell_type": "code",
   "execution_count": 132,
   "metadata": {},
   "outputs": [],
   "source": [
    "import pandas as pd\n",
    "import numpy as np\n",
    "import keras as keras"
   ]
  },
  {
   "cell_type": "code",
   "execution_count": 165,
   "metadata": {},
   "outputs": [],
   "source": [
    "df = pd.read_csv(\"final_dataFrame.csv\")"
   ]
  },
  {
   "cell_type": "code",
   "execution_count": 200,
   "metadata": {},
   "outputs": [],
   "source": [
    "data = df.iloc[:,:18]\n",
    "labels = df.iloc[:,16:]\n",
    "# data.set_index(data.loc[:,'Trial'],inplace=True)\n",
    "# labels.set_index(data.loc[:,'Trial'],inplace=True)\n",
    "data.drop(columns='Coordinate',inplace=True)"
   ]
  },
  {
   "cell_type": "code",
   "execution_count": 204,
   "metadata": {},
   "outputs": [
    {
     "data": {
      "text/plain": [
       "(4, 17)"
      ]
     },
     "execution_count": 204,
     "metadata": {},
     "output_type": "execute_result"
    }
   ],
   "source": [
    "data.loc[:3].shape"
   ]
  },
  {
   "cell_type": "code",
   "execution_count": 122,
   "metadata": {},
   "outputs": [],
   "source": [
    "import sklearn as sk\n",
    "from sklearn.model_selection import train_test_split\n",
    "X_train, X_test, y_train, y_test = train_test_split(data, labels, test_size=0.2, random_state=0)"
   ]
  },
  {
   "cell_type": "code",
   "execution_count": 108,
   "metadata": {},
   "outputs": [],
   "source": [
    "from keras.models import Sequential\n",
    "from keras.layers import Dense, Activation\n",
    "\n",
    "model = Sequential([\n",
    "    Dense(32, input_shape=(2760,16)),\n",
    "    Activation('relu'),\n",
    "    Dense(10),\n",
    "    Activation('softmax'),\n",
    "])"
   ]
  },
  {
   "cell_type": "code",
   "execution_count": 125,
   "metadata": {},
   "outputs": [],
   "source": [
    "model = Sequential()\n",
    "model.add(Dense(32, activation='relu', input_dim=16))\n",
    "model.add(Dense(4, activation='softmax'))\n",
    "model.compile(optimizer='rmsprop',\n",
    "              loss='categorical_crossentropy',\n",
    "              metrics=['accuracy'])"
   ]
  },
  {
   "cell_type": "code",
   "execution_count": 126,
   "metadata": {},
   "outputs": [],
   "source": [
    "model.compile(optimizer='rmsprop',\n",
    "              loss='categorical_crossentropy',\n",
    "              metrics=['accuracy'])"
   ]
  },
  {
   "cell_type": "code",
   "execution_count": 130,
   "metadata": {},
   "outputs": [
    {
     "name": "stdout",
     "output_type": "stream",
     "text": [
      "Epoch 1/10\n",
      "2208/2208 [==============================] - 0s 36us/step - loss: 8.1220 - acc: 0.4226\n",
      "Epoch 2/10\n",
      "2208/2208 [==============================] - 0s 33us/step - loss: 7.8149 - acc: 0.4479\n",
      "Epoch 3/10\n",
      "2208/2208 [==============================] - 0s 32us/step - loss: 7.3322 - acc: 0.4823\n",
      "Epoch 4/10\n",
      "2208/2208 [==============================] - 0s 33us/step - loss: 7.2791 - acc: 0.4814\n",
      "Epoch 5/10\n",
      "2208/2208 [==============================] - 0s 31us/step - loss: 7.2619 - acc: 0.4792\n",
      "Epoch 6/10\n",
      "2208/2208 [==============================] - 0s 32us/step - loss: 7.2366 - acc: 0.4778\n",
      "Epoch 7/10\n",
      "2208/2208 [==============================] - 0s 33us/step - loss: 7.2428 - acc: 0.4837\n",
      "Epoch 8/10\n",
      "2208/2208 [==============================] - 0s 31us/step - loss: 7.1767 - acc: 0.4869\n",
      "Epoch 9/10\n",
      "2208/2208 [==============================] - 0s 32us/step - loss: 7.1637 - acc: 0.4932\n",
      "Epoch 10/10\n",
      "2208/2208 [==============================] - 0s 32us/step - loss: 7.1652 - acc: 0.4900\n"
     ]
    },
    {
     "data": {
      "text/plain": [
       "<keras.callbacks.History at 0x1355fc240>"
      ]
     },
     "execution_count": 130,
     "metadata": {},
     "output_type": "execute_result"
    }
   ],
   "source": [
    "model.fit(X_train, y_train, epochs=10, batch_size=32,shuffle=True)"
   ]
  },
  {
   "cell_type": "code",
   "execution_count": 131,
   "metadata": {},
   "outputs": [
    {
     "name": "stdout",
     "output_type": "stream",
     "text": [
      "2760/2760 [==============================] - 0s 15us/step\n"
     ]
    },
    {
     "data": {
      "text/plain": [
       "[7.103707666846289, 0.4967391304347826]"
      ]
     },
     "execution_count": 131,
     "metadata": {},
     "output_type": "execute_result"
    }
   ],
   "source": [
    "model.evaluate(data,labels)"
   ]
  },
  {
   "cell_type": "code",
   "execution_count": null,
   "metadata": {},
   "outputs": [],
   "source": []
  }
 ],
 "metadata": {
  "kernelspec": {
   "display_name": "Python (COGS108)",
   "language": "python",
   "name": "cogs108"
  },
  "language_info": {
   "codemirror_mode": {
    "name": "ipython",
    "version": 3
   },
   "file_extension": ".py",
   "mimetype": "text/x-python",
   "name": "python",
   "nbconvert_exporter": "python",
   "pygments_lexer": "ipython3",
   "version": "3.7.2"
  }
 },
 "nbformat": 4,
 "nbformat_minor": 2
}
