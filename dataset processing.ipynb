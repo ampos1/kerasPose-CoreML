{
 "cells": [
  {
   "cell_type": "code",
   "execution_count": 2,
   "metadata": {},
   "outputs": [],
   "source": [
    "import pandas as pd\n",
    "import numpy as np\n",
    "import re"
   ]
  },
  {
   "cell_type": "code",
   "execution_count": 130,
   "metadata": {},
   "outputs": [],
   "source": [
    "data = pd.read_csv(\"finish.txt\")"
   ]
  },
  {
   "cell_type": "code",
   "execution_count": 131,
   "metadata": {},
   "outputs": [],
   "source": [
    "df = pd.DataFrame(data)"
   ]
  },
  {
   "cell_type": "code",
   "execution_count": 132,
   "metadata": {},
   "outputs": [],
   "source": [
    "df.rename(columns = {'<?xml version=\"1.0\" encoding=\"UTF-8\"?>': 'values'},inplace = True)"
   ]
  },
  {
   "cell_type": "code",
   "execution_count": 133,
   "metadata": {},
   "outputs": [],
   "source": [
    "for i in range(0,df['values'].count()):\n",
    "    if type(df['values'][i]) != str:\n",
    "        val = df['values'][i]\n",
    "        df['values'][i] = df['values'][i].to_string()"
   ]
  },
  {
   "cell_type": "code",
   "execution_count": 134,
   "metadata": {},
   "outputs": [],
   "source": [
    "for i in range(0,df['values'].count()):\n",
    "    if 'real' in df['values'][i]:\n",
    "        temp = re.search('>(.*)</',df['values'][i])\n",
    "        df['values'][i] = temp.group(1)  "
   ]
  },
  {
   "cell_type": "code",
   "execution_count": 135,
   "metadata": {},
   "outputs": [],
   "source": [
    "temp_df = df"
   ]
  },
  {
   "cell_type": "code",
   "execution_count": 136,
   "metadata": {},
   "outputs": [],
   "source": [
    "check = ['a','e','i','o','u'] \n",
    "\n",
    "for i in range(0,temp_df['values'].count()):\n",
    "    for vowel in check:\n",
    "        if vowel in list(temp_df['values'][i]):\n",
    "            temp_df.drop(index = i,inplace = True)\n",
    "            break"
   ]
  },
  {
   "cell_type": "code",
   "execution_count": 137,
   "metadata": {},
   "outputs": [],
   "source": [
    "res = temp_df\n",
    "res = res.reset_index()\n",
    "res.drop('index',axis=1,inplace=True)"
   ]
  },
  {
   "cell_type": "code",
   "execution_count": 322,
   "metadata": {},
   "outputs": [],
   "source": [
    "x_temp = pd.DataFrame(np.zeros((4368,1)))\n",
    "y_temp = pd.DataFrame(np.zeros((4368,1)))\n",
    "z_temp = pd.DataFrame(np.zeros((4368,1)))"
   ]
  },
  {
   "cell_type": "code",
   "execution_count": 323,
   "metadata": {},
   "outputs": [],
   "source": [
    "for i in range(0,int(res.count()),3):\n",
    "    if(i == 0):\n",
    "        x_temp[0][i ] = res['values'][i]\n",
    "    else:\n",
    "        x_temp[0][0+(i/3)] = res['values'][i]"
   ]
  },
  {
   "cell_type": "code",
   "execution_count": 324,
   "metadata": {},
   "outputs": [],
   "source": [
    "def extract_x_values(data, x_vals):\n",
    "    for i in range(0,int(data.count()),3):\n",
    "        if(i == 0):\n",
    "            x_vals[0][i ] = data['values'][i]\n",
    "        else:\n",
    "            x_vals[0][(i/3)] = data['values'][i]\n",
    "    return x_vals"
   ]
  },
  {
   "cell_type": "code",
   "execution_count": 325,
   "metadata": {},
   "outputs": [],
   "source": [
    "def extract_y_values(data, y_vals):\n",
    "    for i in range(1,int(data.count()),3):\n",
    "        if(i == 1):\n",
    "            y_vals[0][i-1] = data['values'][i]\n",
    "        else:\n",
    "            y_vals[0][int((i/3))] = data['values'][i]\n",
    "    return y_vals"
   ]
  },
  {
   "cell_type": "code",
   "execution_count": 326,
   "metadata": {},
   "outputs": [],
   "source": [
    "def extract_z_values(data,z_vals):\n",
    "    for i in range(2,int(data.count()),3):\n",
    "        if(i == 2):\n",
    "            z_vals[0][i-2] = data['values'][i]\n",
    "        else:\n",
    "            z_vals[0][(i-2)/3] = data['values'][i]\n",
    "    return z_vals"
   ]
  },
  {
   "cell_type": "code",
   "execution_count": 327,
   "metadata": {},
   "outputs": [],
   "source": [
    "x_temp = extract_x_values(res,x_temp)\n",
    "y_temp = extract_y_values(res,y_temp)\n",
    "z_temp = extract_z_value(res,z_temp)"
   ]
  },
  {
   "cell_type": "code",
   "execution_count": 328,
   "metadata": {},
   "outputs": [],
   "source": [
    "x_temp.rename(columns={0:'x'},inplace=True)\n",
    "y_temp.rename(columns={0:'y'},inplace=True)\n",
    "z_temp.rename(columns={0:'z'},inplace=True)"
   ]
  },
  {
   "cell_type": "code",
   "execution_count": 329,
   "metadata": {},
   "outputs": [],
   "source": [
    "xyz_df = pd.concat([x_temp,y_temp,z_temp],axis=1)"
   ]
  },
  {
   "cell_type": "code",
   "execution_count": 1,
   "metadata": {},
   "outputs": [
    {
     "ename": "NameError",
     "evalue": "name 'xyz_df' is not defined",
     "output_type": "error",
     "traceback": [
      "\u001b[0;31m---------------------------------------------------------------------------\u001b[0m",
      "\u001b[0;31mNameError\u001b[0m                                 Traceback (most recent call last)",
      "\u001b[0;32m<ipython-input-1-f2bec216b09b>\u001b[0m in \u001b[0;36m<module>\u001b[0;34m\u001b[0m\n\u001b[0;32m----> 1\u001b[0;31m \u001b[0mxyz_df\u001b[0m\u001b[0;34m\u001b[0m\u001b[0;34m\u001b[0m\u001b[0m\n\u001b[0m",
      "\u001b[0;31mNameError\u001b[0m: name 'xyz_df' is not defined"
     ]
    }
   ],
   "source": [
    "xyz_df"
   ]
  },
  {
   "cell_type": "code",
   "execution_count": null,
   "metadata": {},
   "outputs": [],
   "source": []
  }
 ],
 "metadata": {
  "kernelspec": {
   "display_name": "Python (COGS108)",
   "language": "python",
   "name": "cogs108"
  },
  "language_info": {
   "codemirror_mode": {
    "name": "ipython",
    "version": 3
   },
   "file_extension": ".py",
   "mimetype": "text/x-python",
   "name": "python",
   "nbconvert_exporter": "python",
   "pygments_lexer": "ipython3",
   "version": "3.7.2"
  }
 },
 "nbformat": 4,
 "nbformat_minor": 2
}
